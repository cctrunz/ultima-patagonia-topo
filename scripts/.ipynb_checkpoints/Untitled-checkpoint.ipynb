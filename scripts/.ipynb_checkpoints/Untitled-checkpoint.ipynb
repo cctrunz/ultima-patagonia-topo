{
 "cells": [
  {
   "cell_type": "code",
   "execution_count": 2,
   "metadata": {},
   "outputs": [],
   "source": [
    "import os\n",
    "import re\n",
    "import subprocess"
   ]
  },
  {
   "cell_type": "code",
   "execution_count": null,
   "metadata": {},
   "outputs": [],
   "source": [
    "for root, dirs, files in os.walk(\"../data/cadastre/\", topdown=False):\n",
    "    for name in files:\n",
    "        if 'tro' in name and ('._' not in name):\n",
    "            fp = os.path.join(root, name)\n",
    "            cave_name = cleanNames(name)[:-4].replace(' ','_')\n",
    "            writeTemplate(fp, os.path.join('../data/raw_convert/',cleanNames(name)), cave_name)\n",
    "    #for name in dirs:\n",
    "        #print(os.path.join(root, name))"
   ]
  },
  {
   "cell_type": "code",
   "execution_count": 4,
   "metadata": {},
   "outputs": [],
   "source": [
    "subprocess.run"
   ]
  },
  {
   "cell_type": "code",
   "execution_count": null,
   "metadata": {},
   "outputs": [],
   "source": []
  }
 ],
 "metadata": {
  "kernelspec": {
   "display_name": "Python 3",
   "language": "python",
   "name": "python3"
  },
  "language_info": {
   "codemirror_mode": {
    "name": "ipython",
    "version": 3
   },
   "file_extension": ".py",
   "mimetype": "text/x-python",
   "name": "python",
   "nbconvert_exporter": "python",
   "pygments_lexer": "ipython3",
   "version": "3.8.5"
  }
 },
 "nbformat": 4,
 "nbformat_minor": 4
}
