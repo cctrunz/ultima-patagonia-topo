{
 "cells": [
  {
   "cell_type": "code",
   "execution_count": 37,
   "metadata": {},
   "outputs": [],
   "source": [
    "import kml2geojson\n",
    "\n",
    "template = \"var hike = \\n {}\"\n",
    "read_data = kml2geojson.main.convert('../data/gis/hike_1.kml', '../data/gis/hike.js')\n",
    "with open ('../data/gis/hike.js', 'w') as f:\n",
    "    f.write(template.format(read_data[0]))\n",
    "    f.close()"
   ]
  }
 ],
 "metadata": {
  "kernelspec": {
   "display_name": "Python 3",
   "language": "python",
   "name": "python3"
  },
  "language_info": {
   "codemirror_mode": {
    "name": "ipython",
    "version": 3
   },
   "file_extension": ".py",
   "mimetype": "text/x-python",
   "name": "python",
   "nbconvert_exporter": "python",
   "pygments_lexer": "ipython3",
   "version": "3.8.5"
  }
 },
 "nbformat": 4,
 "nbformat_minor": 4
}
